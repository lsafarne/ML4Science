{
  "cells": [
    {
      "cell_type": "code",
      "source": [
        "#%pip install opencv-python\n",
        "# %pip install GPUtil\n",
        "# %pip install numba\n",
        "from GPUtil import showUtilization as gpu_usage\n",
        "from numba import cuda\n",
        "import torch\n",
        "import torch.nn as nn\n",
        "import torch.nn.functional as F\n",
        "from torch_geometric.nn import GCNConv\n",
        "from torch_geometric.data import Data, Batch, DataLoader\n",
        "from torch_geometric.nn import global_add_pool, GCNConv, GlobalAttention, GraphConv, SAGEConv, TopKPooling\n",
        "from torch_geometric.nn import global_mean_pool\n",
        "from torch_geometric.data import Batch\n",
        "\n",
        "from torch.utils.data import Dataset\n",
        "from torchvision.transforms import transforms\n",
        "import h5py\n",
        "import torch\n",
        "import cv2\n",
        "import numpy as np\n",
        "from sklearn.neighbors import NearestNeighbors\n",
        "import networkx as nx\n",
        "import random\n",
        "\n",
        "from matplotlib import pyplot as plt"
      ],
      "outputs": [
        {
          "output_type": "stream",
          "name": "stderr",
          "text": "/anaconda/envs/azureml_py38_PT_TF/lib/python3.8/site-packages/tqdm/auto.py:22: TqdmWarning: IProgress not found. Please update jupyter and ipywidgets. See https://ipywidgets.readthedocs.io/en/stable/user_install.html\n  from .autonotebook import tqdm as notebook_tqdm\n"
        }
      ],
      "execution_count": 1,
      "metadata": {
        "gather": {
          "logged": 1680554962324
        }
      }
    },
    {
      "cell_type": "code",
      "source": [
        "\n",
        "\n",
        "\"\"\"\n",
        "To extract nonzero pixels, I consider those pixels with nonzero values in at least one of the three channels\n",
        "I also normalized every channel based on the mean and std value of that channel\n",
        "\"\"\"\n",
        "class Quark_Gluon_Dataset_v2(Dataset):\n",
        "    def __init__(self, train_data_size):\n",
        "        with h5py.File('data/quark-gluon_data-set_n139306.hdf5', 'r') as f:\n",
        "            print(f.keys())\n",
        "            self.X_jets_data = f['X_jets'][:train_data_size]\n",
        "            self.y_data = f['y'][:train_data_size]\n",
        "            # transforms.Compose([transforms.Resize(256)])\n",
        "            self.transform = transforms.Compose([transforms.ToTensor()])\n",
        "            self.graphs, self.labels = self.process_data()\n",
        "\n",
        "        f.close()\n",
        "        del f\n",
        "\n",
        "    def create_graph_data_v2(self, x_jet, x_jet_normalized, y):\n",
        "        none_zero_point_cloud = []\n",
        "        graph = []\n",
        "        for i in range(len(x_jet[0])):\n",
        "            for j in range(len(x_jet[0][i])):\n",
        "                graph.append([i, j, x_jet_normalized[i][j][0], x_jet_normalized[i][j][1], x_jet_normalized[i][j][2]])\n",
        "                if x_jet[0][i][j] != 0 or x_jet[1][i][j] != 0 or x_jet[2][i][j] != 0:\n",
        "                    none_zero_point_cloud.append(\n",
        "                        [i, j, x_jet_normalized[i][j][0], x_jet_normalized[i][j][1], x_jet_normalized[i][j][2]])\n",
        "\n",
        "        # Compute the k-NN graph using the point cloud\n",
        "        xy_coordinates = [x[:2] for x in none_zero_point_cloud]\n",
        "        # nbrs = NearestNeighbors(radius=3, algorithm='ball_tree').fit(xy_coordinates)\n",
        "        # distances, indices = nbrs.radius_neighbors(xy_coordinates)\n",
        "        nbrs = NearestNeighbors(n_neighbors=10, algorithm='ball_tree').fit(xy_coordinates)\n",
        "        distances, indices = nbrs.kneighbors(xy_coordinates)\n",
        "        # nbrs = NearestNeighbors(radius=5, algorithm='ball_tree').fit(none_zero_point_cloud)\n",
        "        # distances, indices = nbrs.radius_neighbors(none_zero_point_cloud)\n",
        "        # Convert the k-NN graph to a NetworkX graph\n",
        "\n",
        "        edges = []\n",
        "        for i, node in enumerate(indices):\n",
        "            for j, neigbour in enumerate(node):\n",
        "                i_id = none_zero_point_cloud[i][0] * 125 + none_zero_point_cloud[i][1]\n",
        "                j_id = none_zero_point_cloud[j][0] * 125 + none_zero_point_cloud[j][1]\n",
        "                if i_id != j_id:\n",
        "                    edges.append([i_id, j_id, distances[i][j]])\n",
        "\n",
        "        x = torch.tensor(graph, dtype=torch.float)\n",
        "        edge_index = torch.tensor([x[:2] for x in edges], dtype=torch.long).t().contiguous()\n",
        "        edge_attr = torch.tensor([x[2] for x in edges], dtype=torch.float)\n",
        "        y = torch.tensor(int(y), dtype=torch.long)\n",
        "        # data = Data(x=x, edge_index=edge_index, edge_attr=edge_attr, y=y)\n",
        "        data = Data(x=x, edge_index=edge_index, y=y)\n",
        "        return data, edges\n",
        "\n",
        "\n",
        "    def process_data(self):\n",
        "        graphs = []\n",
        "        labels = []\n",
        "        counter = 0\n",
        "        for x_jet, y in zip(self.X_jets_data, self.y_data):\n",
        "            counter += 1\n",
        "            mean = np.mean(x_jet, axis=(0, 1))\n",
        "            std = np.std(x_jet, axis=(0, 1))\n",
        "            x_jet_normalized = (x_jet - mean) / std\n",
        "            x_jet_tensor = self.transform(x_jet)\n",
        "            x_jet_data, edges = self.create_graph_data_v2(x_jet_tensor, x_jet_normalized, y)\n",
        "            y = torch.tensor(int(y), dtype=torch.long)\n",
        "\n",
        "            graphs.append(x_jet_data)\n",
        "            labels.append(y)\n",
        "\n",
        "        return graphs, labels\n",
        "\n",
        "    def __len__(self):\n",
        "        return len(self.labels)\n",
        "\n",
        "    def __getitem__(self, index):\n",
        "\n",
        "        return self.graphs[index], self.labels[index]\n",
        "\n",
        "\n",
        "\n",
        "\n",
        "class Quark_Gluon_Dataset(Dataset):\n",
        "    def __init__(self, train_size):\n",
        "        with h5py.File('data/quark-gluon_data-set_n139306.hdf5', 'r') as f:\n",
        "            print(f.keys())\n",
        "            self.X_jets_data = f['X_jets'][:train_size]\n",
        "            self.y_data = f['y'][:train_size]\n",
        "            # transforms.Compose([transforms.Resize(256)])\n",
        "            self.transform = transforms.Compose([transforms.ToTensor()])\n",
        "            self.graph_data = self.convert_2_point_cloud()\n",
        "\n",
        "\n",
        "            # Read the data from the dataset into a numpy array\n",
        "        f.close()\n",
        "        del f\n",
        "\n",
        "    def convert_2_point_cloud(self):\n",
        "        res_train = []\n",
        "        res_eval = []\n",
        "        counter = 0\n",
        "        for x_jet, y in zip(self.X_jets_data, self.y_data):\n",
        "            counter+=1\n",
        "\n",
        "            mean = np.mean(x_jet, axis=(0, 1))\n",
        "            std = np.std(x_jet, axis=(0, 1))\n",
        "            x_jet = (x_jet - mean) / std\n",
        "            # x_jet = 2 * (x_jet.transpose((2, 1, 0)) / 255) - 1\n",
        "            # plt.imshow(x_jet.transpose((2,1,0)))\n",
        "            # plt.imshow(x_jet)\n",
        "            # plt.show()\n",
        "            x_jet = self.transform(x_jet)\n",
        "\n",
        "            torch.permute(x_jet, (2, 1, 0))\n",
        "            img_gray = cv2.cvtColor(x_jet.permute(2,1,0).numpy(), cv2.COLOR_RGB2GRAY)\n",
        "            img_gray = x_jet.numpy().sum(axis=0)\n",
        "            max_channel = np.max(x_jet.permute(2,1,0).numpy(), axis=2, keepdims=True)  # Compute the max value for each pixel across the 3 channels\n",
        "            img_gray = max_channel.squeeze()\n",
        "\n",
        "            # Extract the coordinates of non-zero pixels\n",
        "            y_coords, x_coords = np.nonzero(img_gray)\n",
        "            np.column_stack((x_coords, y_coords, img_gray[y_coords, x_coords]))\n",
        "            np.column_stack((x_coords, y_coords, 10*x_jet[0][y_coords, x_coords], 10*x_jet[1][y_coords, x_coords],\n",
        "                             10*x_jet[2][y_coords, x_coords]))\n",
        "            # Create a point cloud dataset\n",
        "            point_cloud = np.column_stack((x_coords, y_coords, np.zeros_like(x_coords)))\n",
        "            point_cloud = np.column_stack((x_coords, y_coords))\n",
        "            point_cloud = np.column_stack((x_coords, y_coords, x_jet[0][y_coords, x_coords], x_jet[1][y_coords, x_coords],\n",
        "                             x_jet[2][y_coords, x_coords]))\n",
        "\n",
        "            k = 10\n",
        "\n",
        "            # Compute the k-NN graph using the point cloud\n",
        "            nbrs = NearestNeighbors(n_neighbors=k, algorithm='ball_tree').fit(point_cloud)\n",
        "            distances, indices = nbrs.kneighbors(point_cloud)\n",
        "            # Convert the k-NN graph to a NetworkX graph\n",
        "            graph = nx.Graph()\n",
        "            for i in range(len(point_cloud)):\n",
        "                for j in range(1, k):\n",
        "                    graph.add_edge(i, indices[i][j], weight=distances[i][j])\n",
        "\n",
        "            # Add the feature vectors as node attributes\n",
        "            for i in range(len(point_cloud)):\n",
        "                graph.nodes[i]['feature'] = point_cloud[i]\n",
        "\n",
        "            x = torch.tensor(point_cloud, dtype=torch.float)\n",
        "            edge_index = torch.tensor(list(graph.edges), dtype=torch.long).t().contiguous()\n",
        "            edge_attr = torch.tensor([graph[u][v]['weight'] for u, v in graph.edges], dtype=torch.float)\n",
        "            y = torch.tensor(int(y), dtype=torch.long)\n",
        "            #data = Data(x=x, edge_index=edge_index, edge_attr=edge_attr, y=y)\n",
        "            data = Data(x=x, edge_index=edge_index, y=y)\n",
        "\n",
        "            res_train.append(data)\n",
        "        return res_train\n",
        "\n",
        "\n",
        "    def __len__(self):\n",
        "        return len(self.y_data)\n",
        "\n",
        "    def __getitem__(self, indx):\n",
        "        return self.graph_data[indx]\n",
        "\n",
        "\n",
        "\n",
        "\n"
      ],
      "outputs": [],
      "execution_count": 2,
      "metadata": {
        "jupyter": {
          "source_hidden": false,
          "outputs_hidden": false
        },
        "nteract": {
          "transient": {
            "deleting": false
          }
        },
        "gather": {
          "logged": 1680554962491
        }
      }
    },
    {
      "cell_type": "code",
      "source": [
        "class Quark_Gluon_Dataset_v3(Dataset):\n",
        "    def __init__(self, start,train_data_size):\n",
        "        with h5py.File('data/quark-gluon_data-set_n139306.hdf5', 'r') as f:\n",
        "            print(f.keys())\n",
        "\n",
        "            self.X_jets_data = f['X_jets'][start:train_data_size]\n",
        "            self.y_data = f['y'][start:train_data_size]\n",
        "            # transforms.Compose([transforms.Resize(256)])\n",
        "            self.transform = transforms.Compose([transforms.ToTensor()])\n",
        "            self.graphs, self.labels = self.process_data()\n",
        "\n",
        "        f.close()\n",
        "        del f\n",
        "\n",
        "    def create_graph_data_v2(self, x_jet, x_jet_normalized, y):\n",
        "        none_zero_point_cloud = []\n",
        "        graph = []\n",
        "        for i in range(len(x_jet[0])):\n",
        "            for j in range(len(x_jet[0][i])):\n",
        "                if x_jet[0][i][j] != 0 or x_jet[1][i][j] != 0 or x_jet[2][i][j] != 0:\n",
        "                    none_zero_point_cloud.append(\n",
        "                        [i, j, x_jet_normalized[i][j][0], x_jet_normalized[i][j][1], x_jet_normalized[i][j][2]])\n",
        "\n",
        "        # Compute the k-NN graph using the point cloud\n",
        "        xy_coordinates = [x[:2] for x in none_zero_point_cloud]\n",
        "        # nbrs = NearestNeighbors(radius=5, algorithm='ball_tree').fit(xy_coordinates)\n",
        "        # distances, indices = nbrs.radius_neighbors(xy_coordinates)\n",
        "        nbrs = NearestNeighbors(n_neighbors=10, algorithm='ball_tree').fit(xy_coordinates)\n",
        "        distances, indices = nbrs.kneighbors(xy_coordinates)\n",
        "        \n",
        "        # Convert the k-NN graph to a NetworkX graph\n",
        "\n",
        "        edges = []\n",
        "        for i, node in enumerate(indices):\n",
        "            for j, neigbour in enumerate(node):\n",
        "                if i != j:\n",
        "                    edges.append([i, j, distances[i][j]])\n",
        "\n",
        "        x = torch.tensor(none_zero_point_cloud, dtype=torch.float)\n",
        "        edge_index = torch.tensor([x[:2] for x in edges], dtype=torch.long).t().contiguous()\n",
        "        edge_attr = torch.tensor([x[2] for x in edges], dtype=torch.float)\n",
        "        y = torch.tensor(int(y), dtype=torch.long)\n",
        "        # data = Data(x=x, edge_index=edge_index, edge_attr=edge_attr, y=y)\n",
        "        data = Data(x=x, edge_index=edge_index, y=y)\n",
        "        return data, edges\n",
        "\n",
        "\n",
        "    def process_data(self):\n",
        "        graphs = []\n",
        "        labels = []\n",
        "        counter = 0\n",
        "        for x_jet, y in zip(self.X_jets_data, self.y_data):\n",
        "            counter += 1\n",
        "            mean = np.mean(x_jet, axis=(0, 1))\n",
        "            std = np.std(x_jet, axis=(0, 1))\n",
        "            x_jet_normalized = (x_jet - mean) / std\n",
        "            x_jet_tensor = self.transform(x_jet)\n",
        "            x_jet_data, edges = self.create_graph_data_v2(x_jet_tensor, x_jet_normalized, y)\n",
        "            y = torch.tensor(int(y), dtype=torch.long)\n",
        "\n",
        "            graphs.append(x_jet_data)\n",
        "            labels.append(y)\n",
        "\n",
        "        return graphs, labels\n",
        "\n",
        "    def __len__(self):\n",
        "        return len(self.labels)\n",
        "\n",
        "    def __getitem__(self, index):\n",
        "\n",
        "        return self.graphs[index], self.labels[index]\n"
      ],
      "outputs": [],
      "execution_count": 3,
      "metadata": {
        "jupyter": {
          "source_hidden": false,
          "outputs_hidden": false
        },
        "nteract": {
          "transient": {
            "deleting": false
          }
        },
        "gather": {
          "logged": 1680554962660
        }
      }
    },
    {
      "cell_type": "code",
      "source": [
        "class GCN4(torch.nn.Module):\n",
        "    def __init__(self, num_features, hidden_size, num_classes):\n",
        "        super(GCN4, self).__init__()\n",
        "        torch.manual_seed(12345)\n",
        "        \n",
        "        self.conv1 = SAGEConv(num_features, hidden_size)\n",
        "        self.bn1 = torch.nn.BatchNorm1d(hidden_size)\n",
        "        self.pool1 = TopKPooling(hidden_size, ratio=0.8)\n",
        "        self.conv2 = SAGEConv(hidden_size, hidden_size)\n",
        "        self.bn2 = torch.nn.BatchNorm1d(hidden_size)\n",
        "        self.pool2 = TopKPooling(hidden_size, ratio=0.8)\n",
        "        self.conv3 = SAGEConv(hidden_size, hidden_size)\n",
        "        self.bn3 = torch.nn.BatchNorm1d(hidden_size)\n",
        "        self.pool3 = TopKPooling(hidden_size, ratio=0.8)\n",
        "        # self.lin = nn.Linear(hidden_size, num_classes)\n",
        "        self.classifier_hidden1 = nn.Linear(hidden_size, hidden_size // 2)\n",
        "        self.classifier_bn1 = torch.nn.BatchNorm1d(hidden_size//2)\n",
        "        self.classifier_hidden2 = nn.Linear(hidden_size // 2, hidden_size // 4)\n",
        "        self.classifier_bn2 = torch.nn.BatchNorm1d(hidden_size//4)\n",
        "        self.classifier_output = nn.Linear(hidden_size // 4, num_classes)\n",
        "\n",
        "    def forward(self, x, edge_index, batch):\n",
        "        \n",
        "\n",
        "        # 1. Obtain node embeddings\n",
        "        x = self.bn1(self.conv1(x, edge_index))\n",
        "        x = x.relu()\n",
        "        x, edge_index, _, batch, _, _ = self.pool1(x, edge_index, None, batch)\n",
        "        x = self.bn2(self.conv2(x, edge_index))\n",
        "        x = x.relu()\n",
        "        x, edge_index, _, batch, _, _ = self.pool2(x, edge_index, None, batch)\n",
        "        x = self.bn3(self.conv3(x, edge_index))\n",
        "\n",
        "        # 2. Readout layer\n",
        "        x = global_mean_pool(x, batch)  # [batch_size, hidden_channels]\n",
        "\n",
        "        # 3. Apply a final classifier\n",
        "        x = F.relu(self.classifier_bn1(self.classifier_hidden1(x)))\n",
        "        x = F.relu(self.classifier_bn2(self.classifier_hidden2(x)))\n",
        "        x = self.classifier_output(x)\n",
        "        # x = F.dropout(x, p=0.5, training=self.training)\n",
        "        # x = self.lin(x)\n",
        "\n",
        "        return x\n"
      ],
      "outputs": [],
      "execution_count": 4,
      "metadata": {
        "jupyter": {
          "source_hidden": false,
          "outputs_hidden": false
        },
        "nteract": {
          "transient": {
            "deleting": false
          }
        },
        "gather": {
          "logged": 1680554962827
        }
      }
    },
    {
      "cell_type": "code",
      "source": [
        "\n",
        "def free_gpu_cache():\n",
        "    print(\"Initial GPU Usage\")\n",
        "    gpu_usage()                             \n",
        "\n",
        "    torch.cuda.empty_cache()\n",
        "\n",
        "    cuda.select_device(0)\n",
        "    cuda.close()\n",
        "    cuda.select_device(0)\n",
        "\n",
        "    print(\"GPU Usage after emptying the cache\")\n",
        "    gpu_usage()\n",
        "    \n",
        "    allocated = torch.cuda.memory_allocated()\n",
        "    cached = torch.cuda.memory_cached()\n",
        "    print(f\"GPU memory allocated: {allocated/(1024**3):.2f} GB\")\n",
        "\n",
        "free_gpu_cache()"
      ],
      "outputs": [
        {
          "output_type": "stream",
          "name": "stderr",
          "text": "/anaconda/envs/azureml_py38_PT_TF/lib/python3.8/site-packages/torch/cuda/memory.py:391: FutureWarning: torch.cuda.memory_cached has been renamed to torch.cuda.memory_reserved\n  warnings.warn(\n/anaconda/envs/azureml_py38_PT_TF/lib/python3.8/site-packages/torch/cuda/memory.py:391: FutureWarning: torch.cuda.memory_cached has been renamed to torch.cuda.memory_reserved\n  warnings.warn(\n/anaconda/envs/azureml_py38_PT_TF/lib/python3.8/site-packages/torch/cuda/memory.py:391: FutureWarning: torch.cuda.memory_cached has been renamed to torch.cuda.memory_reserved\n  warnings.warn(\n/anaconda/envs/azureml_py38_PT_TF/lib/python3.8/site-packages/torch/cuda/memory.py:391: FutureWarning: torch.cuda.memory_cached has been renamed to torch.cuda.memory_reserved\n  warnings.warn(\n/anaconda/envs/azureml_py38_PT_TF/lib/python3.8/site-packages/torch/cuda/memory.py:391: FutureWarning: torch.cuda.memory_cached has been renamed to torch.cuda.memory_reserved\n  warnings.warn(\n/anaconda/envs/azureml_py38_PT_TF/lib/python3.8/site-packages/torch/cuda/memory.py:391: FutureWarning: torch.cuda.memory_cached has been renamed to torch.cuda.memory_reserved\n  warnings.warn(\n"
        }
      ],
      "execution_count": 5,
      "metadata": {
        "jupyter": {
          "source_hidden": false,
          "outputs_hidden": false
        },
        "nteract": {
          "transient": {
            "deleting": false
          }
        },
        "gather": {
          "logged": 1680554963099
        }
      }
    },
    {
      "cell_type": "code",
      "source": [
        "\n",
        "train_size = 1000\n",
        "start = 0\n",
        "# device = ('cuda' if torch.cuda.is_available() else 'cpu')\n",
        "# print(device)\n",
        "q_g_data   = Quark_Gluon_Dataset_v3(start,train_size)\n",
        "\n",
        "# q_g_data   = Quark_Gluon_Dataset(train_size)\n",
        "\n",
        "#sample_graph, sample_y = q_g_data[0]\n",
        "# batched_graph = Batch.from_data_list(q_g_data)\n",
        "# Print some information about the graph\n",
        "# print(nx.info(sample_graph))\n",
        "\n",
        "\n",
        "# Define the hyperparameters\n",
        "num_features = 5  # number of input features per node\n",
        "hidden_size = 128  # number of hidden units\n",
        "num_classes = 2  # number of output classes\n",
        "learning_rate = 0.001\n",
        "num_epochs = 20\n",
        "loader = DataLoader(q_g_data, batch_size=32, shuffle=True)\n",
        "device = ('cuda' if torch.cuda.is_available() else 'cpu')\n",
        "print(device)\n",
        "\n",
        "# Create the GCN model and optimizer\n",
        "model = GCN4(num_features, hidden_size, num_classes)\n",
        "model.to(device)\n",
        "model.train()\n",
        "optimizer = torch.optim.Adam(model.parameters(), lr=learning_rate)\n",
        "loss_list = []\n",
        "for epoch in range(num_epochs):\n",
        "    batch_loss = 0\n",
        "    counter = 0\n",
        "    for graphs, _ in loader:\n",
        "        x, edge_index, batch, labels = graphs.x, graphs.edge_index, graphs.batch, graphs.y\n",
        "        counter+=1\n",
        "        x = x.to(device)\n",
        "        edge_index = edge_index.to(device)\n",
        "        batch = batch.to(device)\n",
        "        labels = labels.to(device)\n",
        "        optimizer.zero_grad()\n",
        "        out = model(x, edge_index, batch)\n",
        "        loss = F.cross_entropy(out, labels)\n",
        "        batch_loss += loss.item()\n",
        "        loss.backward()\n",
        "        optimizer.step()\n",
        "    print(batch_loss/counter)\n",
        "    loss_list.append(batch_loss/counter)\n",
        "    \n",
        "plt.plot(loss_list)\n",
        "plt.show()\n",
        "\n",
        "print('after training')\n",
        "\n"
      ],
      "outputs": [
        {
          "output_type": "stream",
          "name": "stdout",
          "text": "<KeysViewHDF5 ['X_jets', 'm0', 'pt', 'y']>\n"
        },
        {
          "output_type": "stream",
          "name": "stderr",
          "text": "/anaconda/envs/azureml_py38_PT_TF/lib/python3.8/site-packages/torch_geometric/deprecation.py:22: UserWarning: 'data.DataLoader' is deprecated, use 'loader.DataLoader' instead\n  warnings.warn(out)\n"
        },
        {
          "output_type": "display_data",
          "data": {
            "text/plain": "<Figure size 432x288 with 1 Axes>",
            "image/png": "[encoded data removed]"
          },
          "metadata": {
            "needs_background": "light"
          }
        }
      ],
      "execution_count": 6,
      "metadata": {
        "jupyter": {
          "source_hidden": false,
          "outputs_hidden": false
        },
        "nteract": {
          "transient": {
            "deleting": false
          }
        },
        "gather": {
          "logged": 1680555196406
        }
      }
    },
    {
      "cell_type": "code",
      "source": [
        "model.eval()\n",
        "model.to('cpu')\n",
        "\n",
        "\n",
        "loader2 = DataLoader(q_g_data, batch_size=32, shuffle=False)\n",
        "\n",
        "for graphs, _ in loader2:\n",
        "\n",
        "\n",
        "    x, edge_index, batch, labels = graphs.x, graphs.edge_index, graphs.batch, graphs.y\n",
        "    \n",
        "    out = model(x, edge_index, batch)\n",
        "    pred = out.argmax(dim=1)\n",
        "    acc = (pred == labels).sum().item() / len(labels)\n",
        "    print(f'Test accuracy: {acc:.4f}')"
      ],
      "outputs": [
        {
          "output_type": "stream",
          "name": "stdout",
          "text": "Test accuracy: 0.6562\nTest accuracy: 0.7500\nTest accuracy: 0.6562\nTest accuracy: 0.7500\nTest accuracy: 0.6562\nTest accuracy: 0.7188\nTest accuracy: 0.7812\nTest accuracy: 0.6562\nTest accuracy: 0.6562\nTest accuracy: 0.8125\nTest accuracy: 0.7812\nTest accuracy: 0.8125\nTest accuracy: 0.8125\n"
        }
      ],
      "execution_count": 7,
      "metadata": {
        "jupyter": {
          "source_hidden": false,
          "outputs_hidden": false
        },
        "nteract": {
          "transient": {
            "deleting": false
          }
        },
        "gather": {
          "logged": 1680555196641
        }
      }
    }
  ],
  "metadata": {
    "kernelspec": {
      "name": "python38-azureml-pt-tf",
      "language": "python",
      "display_name": "Python 3.8 - Pytorch and Tensorflow"
    },
    "language_info": {
      "name": "python",
      "version": "3.8.5",
      "mimetype": "text/x-python",
      "codemirror_mode": {
        "name": "ipython",
        "version": 3
      },
      "pygments_lexer": "ipython3",
      "nbconvert_exporter": "python",
      "file_extension": ".py"
    },
    "microsoft": {
      "ms_spell_check": {
        "ms_spell_check_language": "en"
      },
      "host": {
        "AzureML": {
          "notebookHasBeenCompleted": true
        }
      }
    },
    "kernel_info": {
      "name": "python38-azureml-pt-tf"
    },
    "nteract": {
      "version": "nteract-front-end@1.0.0"
    }
  },
  "nbformat": 4,
  "nbformat_minor": 2
}
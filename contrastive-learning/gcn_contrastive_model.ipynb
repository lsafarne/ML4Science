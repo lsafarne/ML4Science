{
 "cells": [
  {
   "cell_type": "markdown",
   "metadata": {
    "nteract": {
     "transient": {
      "deleting": false
     }
    }
   },
   "source": [
    "<h3>Overview</h3>\n",
    "<p>This notebook aims to build a model to classify quark and gluon jet events using Graph Neural Networks (GNNs).</p>\n",
    "<p>The quark and gluon jet events are represented as 125x125 images with three channels (ECAL, HCAL, and Tracks). These images are first converted into graphs. A GNN model is then constructed to perform graph-level classification.</p>\n",
    "<p>The network consists of two parts: the first part learns graph representations using contrastive learning, while the second part is a classifier that classifies events based on the representations learned in the first part.</p>"
   ]
  },
  {
   "cell_type": "code",
   "execution_count": 1,
   "metadata": {
    "gather": {
     "logged": 1680593385845
    }
   },
   "outputs": [
    {
     "name": "stderr",
     "output_type": "stream",
     "text": [
      "/anaconda/envs/azureml_py38_PT_TF/lib/python3.8/site-packages/tqdm/auto.py:22: TqdmWarning: IProgress not found. Please update jupyter and ipywidgets. See https://ipywidgets.readthedocs.io/en/stable/user_install.html\n",
      "  from .autonotebook import tqdm as notebook_tqdm\n"
     ]
    }
   ],
   "source": [
    "#%pip install torch_geometric\n",
    "#%pip install networkx\n",
    "import torch_geometric\n",
    "from torch_geometric.data import Data, DataLoader\n",
    "from torch.utils.data import Dataset\n",
    "from torchvision.transforms import transforms\n",
    "import h5py\n",
    "import torch\n",
    "import numpy as np\n",
    "from sklearn.neighbors import NearestNeighbors\n",
    "import networkx as nx\n",
    "import random\n",
    "import torch.nn as nn\n",
    "from torch_geometric.nn import GCNConv, TopKPooling, SAGEConv, SAGPooling, global_mean_pool\n",
    "import torch.nn.functional as F\n",
    "from matplotlib import pyplot as plt"
   ]
  },
  {
   "cell_type": "markdown",
   "metadata": {
    "nteract": {
     "transient": {
      "deleting": false
     }
    }
   },
   "source": [
    "<h3>Data Preparation</h3>\n",
    "<p>In the preprocessing phase, images are converted to graph representations by first considering only non-zero pixels. Then the k-nearest neighbors algorithm is applied to determine edges between the nodes.</p>\n",
    "<p>Each node in the graph corresponds to a non-zero pixel in the image. Every node is assigned five features: x-coordinate, y-coordinate, ECAL, HCAL, and Tracks.</p>\n",
    "<p>Quark_Gluon_Dataset is a custom dataset class that is derived from the torch.utils.data.Dataset class in PyTorch.\n",
    "\n",
    "This class is used to define a dataset that contains images from Quark/Gluon jet events. \n",
    "\n",
    "The input images are normalized based on their mean and standard deviation. Normalization ensures that the model is less sensitive to pixel value variations, which helps prevent numerical instabilities and allows the optimizer to converge more quickly.</p>"
   ]
  },
  {
   "cell_type": "code",
   "execution_count": 2,
   "metadata": {
    "gather": {
     "logged": 1680593385994
    },
    "jupyter": {
     "outputs_hidden": false,
     "source_hidden": false
    },
    "nteract": {
     "transient": {
      "deleting": false
     }
    }
   },
   "outputs": [],
   "source": [
    "class Quark_Gluon_Dataset_v2(Dataset):\n",
    "    def __init__(self, start,train_data_size):\n",
    "        with h5py.File('data/quark-gluon_data-set_n139306.hdf5', 'r') as f:\n",
    "            print(f.keys())\n",
    "            self.X_jets_data = f['X_jets'][start:train_data_size]\n",
    "            self.y_data = f['y'][start:train_data_size]\n",
    "            self.transform = transforms.Compose([transforms.ToTensor()])\n",
    "            self.graphs, self.augmented_graphs, self.labels = self.process_data()\n",
    "\n",
    "        f.close()\n",
    "        del f\n",
    "\n",
    "    def create_graph_data_v3(self, x_jet, x_jet_normalized, y):\n",
    "        none_zero_point_cloud = []\n",
    "        graph = []\n",
    "        for i in range(len(x_jet[0])):\n",
    "            for j in range(len(x_jet[0][i])):\n",
    "                if x_jet[0][i][j] != 0 or x_jet[1][i][j] != 0 or x_jet[2][i][j] != 0:\n",
    "                    none_zero_point_cloud.append(\n",
    "                        [i, j, x_jet_normalized[i][j][0], x_jet_normalized[i][j][1], x_jet_normalized[i][j][2]])\n",
    "\n",
    "        # Compute the k-NN graph using the point cloud\n",
    "        xy_coordinates = [x[:2] for x in none_zero_point_cloud]\n",
    "        # nbrs = NearestNeighbors(radius=5, algorithm='ball_tree').fit(xy_coordinates)\n",
    "        # distances, indices = nbrs.radius_neighbors(xy_coordinates)\n",
    "        nbrs = NearestNeighbors(n_neighbors=10, algorithm='ball_tree').fit(none_zero_point_cloud)\n",
    "        distances, indices = nbrs.kneighbors(none_zero_point_cloud)\n",
    "\n",
    "        edges = []\n",
    "        for i, node in enumerate(indices):\n",
    "            for j, neigbour in enumerate(node):\n",
    "                if i != j:\n",
    "                    edges.append([i, j, distances[i][j]])\n",
    "\n",
    "        x = torch.tensor(none_zero_point_cloud, dtype=torch.float)\n",
    "        edge_index = torch.tensor([x[:2] for x in edges], dtype=torch.long).t().contiguous()\n",
    "        edge_attr = torch.tensor([x[2] for x in edges], dtype=torch.float)\n",
    "        y = torch.tensor(int(y), dtype=torch.long)\n",
    "        data = Data(x=x, edge_index=edge_index, y=y)\n",
    "        return data, edges    \n",
    "\n",
    "    def get_augment_graph(self, graph, edges, remove_percent):\n",
    "        augment_edges = edges.copy()\n",
    "        \n",
    "        max_nodes = int(len(augment_edges) * remove_percent)\n",
    "        if max_nodes > 1:\n",
    "            num_nodes_to_remove = random.randrange(1, max_nodes)\n",
    "\n",
    "            for i in range(num_nodes_to_remove):\n",
    "                if len(augment_edges)>0:\n",
    "                    index = random.randrange(0, len(augment_edges))\n",
    "                    del(augment_edges[index])\n",
    "\n",
    "        edge_index = torch.tensor([x[:2] for x in augment_edges], dtype=torch.long).t().contiguous()\n",
    "\n",
    "        return Data(x=graph.x, edge_index=edge_index)\n",
    "\n",
    "    def process_data(self):\n",
    "        graphs = []\n",
    "        augmented_graphs = []\n",
    "        labels = []\n",
    "        counter = 0\n",
    "        for x_jet, y in zip(self.X_jets_data, self.y_data):\n",
    "            counter+=1\n",
    "            mean = np.mean(x_jet, axis=(0, 1))\n",
    "            std = np.std(x_jet, axis=(0, 1))\n",
    "            x_jet_normalized = (x_jet - mean) / std\n",
    "            x_jet_tensor = self.transform(x_jet)\n",
    "            x_jet_data, edges = self.create_graph_data_v3(x_jet_tensor,x_jet_normalized ,y)\n",
    "\n",
    "            if len(edges) < 10:\n",
    "                print(\"graph with a few edges\")\n",
    "                continue\n",
    "\n",
    "            x_jet_augment_data = self.get_augment_graph(x_jet_data, edges, 0.001)\n",
    "\n",
    "            y = torch.tensor(int(y), dtype=torch.long)\n",
    "\n",
    "            graphs.append(x_jet_data)\n",
    "            augmented_graphs.append(x_jet_augment_data)\n",
    "            labels.append(y)\n",
    "\n",
    "        return graphs, augmented_graphs, labels\n",
    "\n",
    "\n",
    "    def __len__(self):\n",
    "        return len(self.labels)\n",
    "\n",
    "    def __getitem__(self, index):\n",
    "\n",
    "\n",
    "        return self.graphs[index], self.augmented_graphs[index], self.labels[index]\n",
    "\n"
   ]
  },
  {
   "cell_type": "markdown",
   "metadata": {},
   "source": [
    "<h3>Contrastive Learning Network Architecture</h3>\n",
    "<p>This neural network atchitecture consists of two parts. The first part is a Graph Neural Network that is based on the contrastive learning paradigm and aims to learn graph embeddings. The second part is a classifier that classifies jet events based the learned embeddings from the first one. </p>"
   ]
  },
  {
   "cell_type": "code",
   "execution_count": 3,
   "metadata": {
    "gather": {
     "logged": 1680593386169
    },
    "jupyter": {
     "outputs_hidden": false,
     "source_hidden": false
    },
    "nteract": {
     "transient": {
      "deleting": false
     }
    }
   },
   "outputs": [],
   "source": [
    "class GraphContrastiveNetDeeperSageBatch(nn.Module):\n",
    "    def __init__(self, feat_dim, hidden_dim, emb_dim, num_classes):\n",
    "        super(GraphContrastiveNetDeeperSageBatch, self).__init__()\n",
    "        \n",
    "        self.sage1 = SAGEConv(feat_dim, hidden_dim)\n",
    "        self.bn1 = nn.BatchNorm1d(hidden_dim)\n",
    "        self.pool1 = TopKPooling(hidden_dim, ratio=0.8)\n",
    "        self.sage2 = SAGEConv(hidden_dim, emb_dim)\n",
    "        self.bn2 = nn.BatchNorm1d(emb_dim)\n",
    "        self.pool2 = TopKPooling(emb_dim, ratio=0.8)\n",
    "\n",
    "        #self.fc = nn.Linear(emb_dim, num_classes)\n",
    "        # Deeper classifier\n",
    "        # self.classifier_hidden1 = nn.Linear(emb_dim, emb_dim // 2)\n",
    "        # self.classifier_hidden2 = nn.Linear(emb_dim // 2, emb_dim // 4)\n",
    "        # self.classifier_output = nn.Linear(emb_dim // 4, num_classes)\n",
    "        self.classifier_hidden1 = nn.Linear(emb_dim, emb_dim)\n",
    "        self.classifier_hidden2 = nn.Linear(emb_dim , emb_dim//2)\n",
    "        self.classifier_output = nn.Linear(emb_dim//2 , num_classes)\n",
    "\n",
    "    def forward(self, x, edge_index, batch):\n",
    "        # x, edge_index, batch = data.x, data.edge_index, data.batch\n",
    "        # x = x.to(self.device)\n",
    "        # edge_index = edge_index.to(self.device)\n",
    "        # batch = batch.to(self.device)\n",
    "        x = self.sage1(x, edge_index)\n",
    "        x = self.bn1(x)\n",
    "        x = nn.functional.relu(x)\n",
    "        x, edge_index, _, batch, _, _ = self.pool1(x, edge_index, None, batch)\n",
    "        x = self.sage2(x, edge_index)\n",
    "        x = self.bn2(x)\n",
    "        x = nn.functional.relu(x)\n",
    "        x, edge_index, _, batch, _, _ = self.pool2(x, edge_index, None, batch)\n",
    "        x = global_mean_pool(x, batch)\n",
    "\n",
    "\n",
    "        #return x, batch\n",
    "        return x\n",
    "\n",
    "    def classify(self,x):\n",
    "        x = F.relu(self.classifier_hidden1(x))\n",
    "        x = F.relu(self.classifier_hidden2(x))\n",
    "        x = self.classifier_output(x)\n",
    "        return x\n",
    "\n",
    "    def pool(self, x, batch):\n",
    "        return global_mean_pool(x, batch)\n",
    "\n",
    "\n",
    "# Define the contrastive loss function\n",
    "class InfoNCELoss(nn.Module):\n",
    "    def __init__(self, temperature):\n",
    "        super(InfoNCELoss, self).__init__()\n",
    "        self.temperature = temperature\n",
    "\n",
    "    def forward(self, z_i, z_j):\n",
    "        # Compute positive pair similarity\n",
    "        sim_pos = torch.exp(torch.sum(z_i * z_j, dim=1) / self.temperature)\n",
    "\n",
    "        # Compute negative pair similarity\n",
    "        sim_neg = torch.mm(z_i, torch.transpose(z_j, 0, 1))\n",
    "        sim_neg = torch.sum(torch.exp(sim_neg / self.temperature), dim=1)\n",
    "\n",
    "        # Compute InfoNCE loss\n",
    "        loss = -torch.log(sim_pos / (sim_pos + sim_neg))\n",
    "        return loss.mean()\n",
    "\n"
   ]
  },
  {
   "cell_type": "markdown",
   "metadata": {},
   "source": [
    "<h3>Training</h3>\n",
    "<p>A GNN model is trained over 1000 samples. Please note that the dataset contains almost 13000 samples. However, due to limited computational power, I only considered a subset of samples for training. </p>\n",
    "<p>Based on the contrastive loss values, the contrastive learning part is learninng. However, it seems the classifier is still struggling with this setting since the classifier loss is not decresing very much. I believe with more number samples and epochs and also after the contrastive part reachs to the point that it outputs more meaningful embeddings, the classifier will start to improve.</p>"
   ]
  },
  {
   "cell_type": "code",
   "execution_count": 4,
   "metadata": {
    "gather": {
     "logged": 1680594078508
    },
    "jupyter": {
     "outputs_hidden": false,
     "source_hidden": false
    },
    "nteract": {
     "transient": {
      "deleting": false
     }
    }
   },
   "outputs": [
    {
     "name": "stdout",
     "output_type": "stream",
     "text": [
      "<KeysViewHDF5 ['X_jets', 'm0', 'pt', 'y']>\n",
      "Epoch: 1, Contrastive Loss: 1.2893807888031006, Classification Loss: 0.6693838834762573, Total Loss: 1.958764672279358\n",
      "Epoch: 2, Contrastive Loss: 1.3495559692382812, Classification Loss: 0.6849379539489746, Total Loss: 2.034493923187256\n",
      "Epoch: 3, Contrastive Loss: 1.14620041847229, Classification Loss: 0.7334892749786377, Total Loss: 1.8796896934509277\n",
      "Epoch: 4, Contrastive Loss: 0.8165686130523682, Classification Loss: 0.6605863571166992, Total Loss: 1.4771549701690674\n",
      "Epoch: 5, Contrastive Loss: 0.8894357681274414, Classification Loss: 0.8033169507980347, Total Loss: 1.692752718925476\n",
      "Epoch: 6, Contrastive Loss: 0.8835732340812683, Classification Loss: 0.7474983334541321, Total Loss: 1.6310715675354004\n",
      "Epoch: 7, Contrastive Loss: 1.0619266033172607, Classification Loss: 0.5989032983779907, Total Loss: 1.6608299016952515\n",
      "Epoch: 8, Contrastive Loss: 0.8440003395080566, Classification Loss: 0.6921497583389282, Total Loss: 1.5361500978469849\n",
      "Epoch: 9, Contrastive Loss: 0.8825105428695679, Classification Loss: 0.664365291595459, Total Loss: 1.5468758344650269\n",
      "Epoch: 10, Contrastive Loss: 0.8772271871566772, Classification Loss: 0.5272125005722046, Total Loss: 1.4044396877288818\n",
      "Epoch: 11, Contrastive Loss: 0.8860961198806763, Classification Loss: 0.8214293718338013, Total Loss: 1.7075254917144775\n",
      "Epoch: 12, Contrastive Loss: 0.748881995677948, Classification Loss: 0.7174610495567322, Total Loss: 1.4663430452346802\n",
      "Epoch: 13, Contrastive Loss: 0.8659192323684692, Classification Loss: 0.8100540637969971, Total Loss: 1.6759732961654663\n",
      "Epoch: 14, Contrastive Loss: 0.7514051198959351, Classification Loss: 0.6385467052459717, Total Loss: 1.3899518251419067\n",
      "Epoch: 15, Contrastive Loss: 0.8946092128753662, Classification Loss: 0.6240554451942444, Total Loss: 1.5186645984649658\n",
      "Epoch: 16, Contrastive Loss: 0.7626626491546631, Classification Loss: 0.5436831712722778, Total Loss: 1.306345820426941\n",
      "Epoch: 17, Contrastive Loss: 0.8561336994171143, Classification Loss: 0.7773759961128235, Total Loss: 1.633509635925293\n",
      "Epoch: 18, Contrastive Loss: 0.9750697612762451, Classification Loss: 0.6223811507225037, Total Loss: 1.5974509716033936\n",
      "Epoch: 19, Contrastive Loss: 0.8882112503051758, Classification Loss: 0.47087278962135315, Total Loss: 1.3590840101242065\n",
      "Epoch: 20, Contrastive Loss: 0.805793046951294, Classification Loss: 0.5713711380958557, Total Loss: 1.3771641254425049\n"
     ]
    },
    {
     "data": {
      "image/png": "[encoded data removed]",
      "text/plain": [
       "<Figure size 432x288 with 1 Axes>"
      ]
     },
     "metadata": {
      "needs_background": "light"
     },
     "output_type": "display_data"
    },
    {
     "name": "stdout",
     "output_type": "stream",
     "text": [
      "<KeysViewHDF5 ['X_jets', 'm0', 'pt', 'y']>\n",
      "Accuracy: 0.5312\n",
      "Accuracy: 0.6250\n",
      "Accuracy: 0.6250\n",
      "Accuracy: 0.6719\n",
      "Accuracy: 0.6500\n",
      "Accuracy: 0.6458\n",
      "Accuracy: 0.6518\n",
      "Accuracy: 0.6484\n",
      "Accuracy: 0.6354\n",
      "Accuracy: 0.6375\n",
      "Accuracy: 0.6392\n",
      "Accuracy: 0.6380\n",
      "Accuracy: 0.6466\n",
      "Accuracy: 0.6540\n",
      "Accuracy: 0.6562\n",
      "Accuracy: 0.6543\n",
      "Accuracy: 0.6618\n",
      "Accuracy: 0.6562\n",
      "Accuracy: 0.6546\n",
      "Accuracy: 0.6578\n",
      "Accuracy: 0.6592\n",
      "Accuracy: 0.6619\n",
      "Accuracy: 0.6522\n",
      "Accuracy: 0.6523\n",
      "Accuracy: 0.6550\n",
      "Accuracy: 0.6562\n",
      "Accuracy: 0.6539\n",
      "Accuracy: 0.6562\n",
      "Accuracy: 0.6541\n",
      "Accuracy: 0.6542\n",
      "Accuracy: 0.6603\n",
      "Accuracy: 0.6610\n"
     ]
    }
   ],
   "source": [
    "train_data_size = 1000\n",
    "start = 0\n",
    "\n",
    "dataset = Quark_Gluon_Dataset_v2(start,train_data_size)\n",
    "dataloader = DataLoader(dataset, batch_size=32, shuffle=True)\n",
    "feat_dim = 5\n",
    "hidden_dim = 128\n",
    "emb_dim = 64\n",
    "lr = 0.001\n",
    "num_epochs = 20\n",
    "num_classes = 2\n",
    "tempurture = 0.8\n",
    "device = ('cuda' if torch.cuda.is_available() else 'cpu')\n",
    "\n",
    "loss_list = []\n",
    "model = GraphContrastiveNetDeeperSageBatch(feat_dim, hidden_dim, emb_dim, num_classes)\n",
    "model.to(device)\n",
    "model.train()\n",
    "classifier_criterion = nn.CrossEntropyLoss()\n",
    "contrastive_criterion = InfoNCELoss(tempurture)\n",
    "contrastive_criterion.to(device)\n",
    "optimizer = torch.optim.Adam(model.parameters(), lr=lr)\n",
    "\n",
    "\n",
    "for epoch in range(num_epochs):\n",
    "    counter = 0\n",
    "    batch_loss = 0\n",
    "    for pos_graphs, neg_graphs, labels in dataloader:\n",
    "        counter+=1\n",
    "        labels = labels.to(device)\n",
    "        x_pos, edge_index_pos, batch_pos = pos_graphs.x, pos_graphs.edge_index, pos_graphs.batch\n",
    "        x_pos = x_pos.to(device)\n",
    "        edge_index_pos = edge_index_pos.to(device)\n",
    "        batch_pos = batch_pos.to(device)\n",
    "\n",
    "        x_neg, edge_index_neg, batch_neg = neg_graphs.x, neg_graphs.edge_index, neg_graphs.batch\n",
    "        x_neg = x_neg.to(device)\n",
    "        edge_index_neg = edge_index_neg.to(device)\n",
    "        batch_neg = batch_neg.to(device)\n",
    "\n",
    "        z_i = model(x_pos, edge_index_pos, batch_pos)\n",
    "        z_j = model(x_neg, edge_index_neg, batch_neg)\n",
    "\n",
    "        contrastive_loss = contrastive_criterion(z_i,z_j)\n",
    "        logits = model.classify(z_i)\n",
    "        optimizer.zero_grad()\n",
    "        classification_loss = classifier_criterion(logits,labels)\n",
    "        loss = contrastive_loss + classification_loss\n",
    "        loss.backward()\n",
    "        optimizer.step()\n",
    "        batch_loss += loss.item()\n",
    "\n",
    "    loss_list.append(batch_loss/counter)\n",
    "    print(\n",
    "        f\"Epoch: {epoch + 1}, Contrastive Loss: {contrastive_loss.item()}, Classification Loss: {classification_loss.item()}, Total Loss: {loss.item()}\")\n",
    "plt.plot(loss_list)\n",
    "plt.show()\n",
    "model.to('cpu')\n",
    "model.eval()\n",
    "test_size = 100\n",
    "dataset_test = Quark_Gluon_Dataset_v2(train_data_size,train_data_size+test_size)\n",
    "testloader = DataLoader(dataset, batch_size=32, shuffle=False)\n",
    "\n",
    "with torch.no_grad():\n",
    "    num_correct = 0\n",
    "    num_samples = 0\n",
    "    for pos_data, neg_data, labels in testloader:\n",
    "        x_pos, edge_index_pos, batch_pos = pos_data.x, pos_data.edge_index, pos_data.batch\n",
    "\n",
    "        z_i = model(x_pos, edge_index_pos, batch_pos)\n",
    "        logits = model.classify(z_i)\n",
    "        preds = logits.argmax(dim=1)\n",
    "        num_correct += (preds == labels).sum().item()\n",
    "        num_samples += labels.size(0)\n",
    "\n",
    "        acc = num_correct / num_samples\n",
    "        print(f\"Accuracy: {acc:.4f}\")\n"
   ]
  }
 ],
 "metadata": {
  "kernel_info": {
   "name": "python38-azureml-pt-tf"
  },
  "kernelspec": {
   "display_name": "seq2seqvenv",
   "language": "python",
   "name": "seq2seqvenv"
  },
  "language_info": {
   "codemirror_mode": {
    "name": "ipython",
    "version": 3
   },
   "file_extension": ".py",
   "mimetype": "text/x-python",
   "name": "python",
   "nbconvert_exporter": "python",
   "pygments_lexer": "ipython3",
   "version": "3.8.2"
  },
  "microsoft": {
   "host": {
    "AzureML": {
     "notebookHasBeenCompleted": true
    }
   },
   "ms_spell_check": {
    "ms_spell_check_language": "en"
   }
  },
  "nteract": {
   "version": "nteract-front-end@1.0.0"
  }
 },
 "nbformat": 4,
 "nbformat_minor": 2
}
